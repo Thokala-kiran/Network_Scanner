{
  "cells": [
    {
      "cell_type": "code",
      "execution_count": null,
      "metadata": {
        "colab": {
          "background_save": true
        },
        "id": "JufrvTR_PnfL"
      },
      "outputs": [],
      "source": [
        "import socket \n",
        "import os\n",
        "import threading\n",
        "\n",
        "# Define a function to scan a specific port on an IP address\n",
        "def scan_port(ip_address, port):\n",
        "    # Create a new socket object\n",
        "    s = socket.socket(socket.AF_INET, socket.SOCK_STREAM)\n",
        "    # Set a timeout value of 0.5 seconds\n",
        "    s.settimeout(0.5)\n",
        "    # Try to connect to the specified port\n",
        "    result = s.connect_ex((ip_address, port))\n",
        "    try:\n",
        "        # If the connection was successful, print a message indicating that the port is open\n",
        "        if result == 0:\n",
        "            print(ip_address, \"port\", port, \"is open\")\n",
        "        else:\n",
        "            pass\n",
        "    except:\n",
        "        pass\n",
        "    # Close the socket\n",
        "    s.close()\n",
        "\n",
        "# Define a function to scan a network for open ports\n",
        "def network_scanner(ip_address, port_num=[25, 53, 80]): \n",
        "    # Create an empty list to store the threads\n",
        "    threads_list = []\n",
        "    # Use the 'ping' command to check if the specified IP address is up\n",
        "    response = os.system('ping -c 1 ' + ip_address)\n",
        "    if response == 0:\n",
        "        print(ip_address, \"is up!\")\n",
        "    else:\n",
        "        pass\n",
        "    # Create a thread for each port and start them all\n",
        "    for port in port_num:\n",
        "        t = threading.Thread(target=scan_port, args=(ip_address, port))\n",
        "        threads_list.append(t)\n",
        "        t.start()\n",
        "    # Wait for all threads to finish\n",
        "    for t in threads_list:\n",
        "        t.join()\n",
        "\n",
        "# Set the IP address range to scan\n",
        "ip_range = '196.0.126.'\n",
        "# Iterate over each IP address in the range and scan it for open ports\n",
        "for i in range(1, 256):\n",
        "    ip_address = ip_range + str(i)\n",
        "    network_scanner(ip_address, port_num=[25, 53, 80])\n"
      ]
    },
    {
      "cell_type": "code",
      "execution_count": null,
      "metadata": {
        "id": "qtWZwH_CY3TN"
      },
      "outputs": [],
      "source": []
    }
  ],
  "metadata": {
    "colab": {
      "provenance": []
    },
    "kernelspec": {
      "display_name": "Python 3",
      "name": "python3"
    },
    "language_info": {
      "name": "python"
    }
  },
  "nbformat": 4,
  "nbformat_minor": 0
}